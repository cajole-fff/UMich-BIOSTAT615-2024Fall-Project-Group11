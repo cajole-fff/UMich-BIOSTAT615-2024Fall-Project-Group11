{
 "cells": [
  {
   "cell_type": "code",
   "execution_count": 58,
   "metadata": {
    "vscode": {
     "languageId": "r"
    }
   },
   "outputs": [],
   "source": [
    "# set.seed(42)\n",
    "source(\"../R/dbscan.R\")\n",
    "dbscan <- DBSCAN$new(eps = 0.5)\n",
    "\n",
    "n <- 100\n",
    "X1 <- matrix(rnorm(n * 3, mean = 0, sd = 0.3), ncol = 3)\n",
    "X2 <- matrix(rnorm(n * 3, mean = 3, sd = 0.3), ncol = 3)\n",
    "X3 <- matrix(rnorm(n * 3, mean = 6, sd = 0.3), ncol = 3)\n",
    "X <- rbind(X1, X2, X3)\n",
    "dbscan$fit(X)"
   ]
  },
  {
   "cell_type": "code",
   "execution_count": 62,
   "metadata": {
    "vscode": {
     "languageId": "r"
    }
   },
   "outputs": [
    {
     "data": {
      "text/html": [
       "0.718832272773025"
      ],
      "text/latex": [
       "0.718832272773025"
      ],
      "text/markdown": [
       "0.718832272773025"
      ],
      "text/plain": [
       "[1] 0.7188323"
      ]
     },
     "metadata": {},
     "output_type": "display_data"
    }
   ],
   "source": [
    "dbscan$compute_silhouette_score()#X, dbscan$get_labels)"
   ]
  },
  {
   "cell_type": "code",
   "execution_count": 63,
   "metadata": {
    "vscode": {
     "languageId": "r"
    }
   },
   "outputs": [
    {
     "data": {
      "text/html": [
       "0.718832272773025"
      ],
      "text/latex": [
       "0.718832272773025"
      ],
      "text/markdown": [
       "0.718832272773025"
      ],
      "text/plain": [
       "[1] 0.7188323"
      ]
     },
     "metadata": {},
     "output_type": "display_data"
    }
   ],
   "source": [
    "library(cluster)\n",
    "mean(silhouette(dbscan$get_labels(), dist(X))[,\"sil_width\"])"
   ]
  }
 ],
 "metadata": {
  "kernelspec": {
   "display_name": "R",
   "language": "R",
   "name": "ir"
  },
  "language_info": {
   "codemirror_mode": "r",
   "file_extension": ".r",
   "mimetype": "text/x-r-source",
   "name": "R",
   "pygments_lexer": "r",
   "version": "4.4.1"
  }
 },
 "nbformat": 4,
 "nbformat_minor": 2
}
