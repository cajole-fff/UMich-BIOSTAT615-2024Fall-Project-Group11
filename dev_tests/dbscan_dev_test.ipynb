{
 "cells": [
  {
   "cell_type": "code",
   "execution_count": 41,
   "metadata": {
    "vscode": {
     "languageId": "r"
    }
   },
   "outputs": [
    {
     "data": {
      "text/html": [
       "2.22044604925031e-16"
      ],
      "text/latex": [
       "2.22044604925031e-16"
      ],
      "text/markdown": [
       "2.22044604925031e-16"
      ],
      "text/plain": [
       "[1] 2.220446e-16"
      ]
     },
     "metadata": {},
     "output_type": "display_data"
    },
    {
     "data": {
      "text/html": [
       "0"
      ],
      "text/latex": [
       "0"
      ],
      "text/markdown": [
       "0"
      ],
      "text/plain": [
       "[1] 0"
      ]
     },
     "metadata": {},
     "output_type": "display_data"
    },
    {
     "data": {
      "text/html": [
       "0.00333333333333333"
      ],
      "text/latex": [
       "0.00333333333333333"
      ],
      "text/markdown": [
       "0.00333333333333333"
      ],
      "text/plain": [
       "[1] 0.003333333"
      ]
     },
     "metadata": {},
     "output_type": "display_data"
    }
   ],
   "source": [
    "# set.seed(42)\n",
    "\n",
    "library(cluster)\n",
    "library(mclust)\n",
    "\n",
    "source(\"../R/dbscan.R\")\n",
    "dbscan <- DBSCAN$new(eps = 0.5)\n",
    "\n",
    "n <- 100\n",
    "X1 <- matrix(rnorm(n * 3, mean = 0, sd = 0.3), ncol = 3)\n",
    "X2 <- matrix(rnorm(n * 3, mean = 3, sd = 0.3), ncol = 3)\n",
    "X3 <- matrix(rnorm(n * 3, mean = 6, sd = 0.3), ncol = 3)\n",
    "X <- rbind(X1, X2, X3)\n",
    "true_labels <- c(rep(1, n), rep(2, n), rep(3, n))\n",
    "dbscan$fit(X)\n",
    "\n",
    "dbscan$compute_silhouette_score() - mean(silhouette(dbscan$get_labels(), dist(X))[,\"sil_width\"])\n",
    "dbscan$compute_adjusted_rand_index(true_labels) - adjustedRandIndex(dbscan$get_labels(), true_labels)\n",
    "dbscan$compute_noise_ratio()"
   ]
  }
 ],
 "metadata": {
  "kernelspec": {
   "display_name": "R",
   "language": "R",
   "name": "ir"
  },
  "language_info": {
   "codemirror_mode": "r",
   "file_extension": ".r",
   "mimetype": "text/x-r-source",
   "name": "R",
   "pygments_lexer": "r",
   "version": "4.4.1"
  }
 },
 "nbformat": 4,
 "nbformat_minor": 2
}
