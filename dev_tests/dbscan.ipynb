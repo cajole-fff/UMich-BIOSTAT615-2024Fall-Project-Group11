{
 "cells": [
  {
   "cell_type": "code",
   "execution_count": 10,
   "metadata": {
    "vscode": {
     "languageId": "r"
    }
   },
   "outputs": [
    {
     "data": {
      "text/html": [
       "<style>\n",
       ".list-inline {list-style: none; margin:0; padding: 0}\n",
       ".list-inline>li {display: inline-block}\n",
       ".list-inline>li:not(:last-child)::after {content: \"\\00b7\"; padding: 0 .5ex}\n",
       "</style>\n",
       "<ol class=list-inline><li>0</li><li>-1</li><li>0</li><li>-1</li><li>0</li><li>-1</li><li>0</li><li>0</li><li>-1</li><li>0</li><li>-1</li><li>0</li><li>0</li><li>0</li><li>0</li><li>0</li><li>0</li><li>-1</li><li>0</li><li>-1</li><li>-1</li><li>0</li><li>0</li><li>0</li><li>-1</li><li>0</li><li>-1</li><li>0</li><li>0</li><li>0</li><li>0</li><li>0</li><li>-1</li><li>0</li><li>0</li><li>0</li><li>0</li><li>0</li><li>0</li><li>0</li><li>-1</li><li>0</li><li>0</li><li>-1</li><li>0</li><li>0</li><li>-1</li><li>-1</li><li>-1</li><li>0</li></ol>\n"
      ],
      "text/latex": [
       "\\begin{enumerate*}\n",
       "\\item 0\n",
       "\\item -1\n",
       "\\item 0\n",
       "\\item -1\n",
       "\\item 0\n",
       "\\item -1\n",
       "\\item 0\n",
       "\\item 0\n",
       "\\item -1\n",
       "\\item 0\n",
       "\\item -1\n",
       "\\item 0\n",
       "\\item 0\n",
       "\\item 0\n",
       "\\item 0\n",
       "\\item 0\n",
       "\\item 0\n",
       "\\item -1\n",
       "\\item 0\n",
       "\\item -1\n",
       "\\item -1\n",
       "\\item 0\n",
       "\\item 0\n",
       "\\item 0\n",
       "\\item -1\n",
       "\\item 0\n",
       "\\item -1\n",
       "\\item 0\n",
       "\\item 0\n",
       "\\item 0\n",
       "\\item 0\n",
       "\\item 0\n",
       "\\item -1\n",
       "\\item 0\n",
       "\\item 0\n",
       "\\item 0\n",
       "\\item 0\n",
       "\\item 0\n",
       "\\item 0\n",
       "\\item 0\n",
       "\\item -1\n",
       "\\item 0\n",
       "\\item 0\n",
       "\\item -1\n",
       "\\item 0\n",
       "\\item 0\n",
       "\\item -1\n",
       "\\item -1\n",
       "\\item -1\n",
       "\\item 0\n",
       "\\end{enumerate*}\n"
      ],
      "text/markdown": [
       "1. 0\n",
       "2. -1\n",
       "3. 0\n",
       "4. -1\n",
       "5. 0\n",
       "6. -1\n",
       "7. 0\n",
       "8. 0\n",
       "9. -1\n",
       "10. 0\n",
       "11. -1\n",
       "12. 0\n",
       "13. 0\n",
       "14. 0\n",
       "15. 0\n",
       "16. 0\n",
       "17. 0\n",
       "18. -1\n",
       "19. 0\n",
       "20. -1\n",
       "21. -1\n",
       "22. 0\n",
       "23. 0\n",
       "24. 0\n",
       "25. -1\n",
       "26. 0\n",
       "27. -1\n",
       "28. 0\n",
       "29. 0\n",
       "30. 0\n",
       "31. 0\n",
       "32. 0\n",
       "33. -1\n",
       "34. 0\n",
       "35. 0\n",
       "36. 0\n",
       "37. 0\n",
       "38. 0\n",
       "39. 0\n",
       "40. 0\n",
       "41. -1\n",
       "42. 0\n",
       "43. 0\n",
       "44. -1\n",
       "45. 0\n",
       "46. 0\n",
       "47. -1\n",
       "48. -1\n",
       "49. -1\n",
       "50. 0\n",
       "\n",
       "\n"
      ],
      "text/plain": [
       " [1]  0 -1  0 -1  0 -1  0  0 -1  0 -1  0  0  0  0  0  0 -1  0 -1 -1  0  0  0 -1\n",
       "[26]  0 -1  0  0  0  0  0 -1  0  0  0  0  0  0  0 -1  0  0 -1  0  0 -1 -1 -1  0"
      ]
     },
     "metadata": {},
     "output_type": "display_data"
    }
   ],
   "source": [
    "source(\"../R/dbscan.R\")\n",
    "dbscan <- DBSCAN$new(eps = 0.5)\n",
    "\n",
    "X <- matrix(rnorm(100), ncol = 2)\n",
    "dbscan$fit_predict(X)"
   ]
  },
  {
   "cell_type": "code",
   "execution_count": null,
   "metadata": {
    "vscode": {
     "languageId": "r"
    }
   },
   "outputs": [],
   "source": []
  }
 ],
 "metadata": {
  "kernelspec": {
   "display_name": "R",
   "language": "R",
   "name": "ir"
  },
  "language_info": {
   "codemirror_mode": "r",
   "file_extension": ".r",
   "mimetype": "text/x-r-source",
   "name": "R",
   "pygments_lexer": "r",
   "version": "4.4.1"
  }
 },
 "nbformat": 4,
 "nbformat_minor": 2
}
