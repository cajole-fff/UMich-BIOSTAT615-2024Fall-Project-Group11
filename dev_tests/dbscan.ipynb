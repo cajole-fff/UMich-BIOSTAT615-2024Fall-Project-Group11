{
 "cells": [
  {
   "cell_type": "code",
   "execution_count": 4,
   "metadata": {
    "vscode": {
     "languageId": "r"
    }
   },
   "outputs": [],
   "source": [
    "source(\"../R/dbscan.R\")\n",
    "dbscan <- DBSCAN$new(eps = 0.5)\n",
    "\n",
    "X <- matrix(rnorm(100), ncol = 2)\n",
    "result <- dbscan$fit(X)"
   ]
  },
  {
   "cell_type": "code",
   "execution_count": 11,
   "metadata": {
    "vscode": {
     "languageId": "r"
    }
   },
   "outputs": [
    {
     "data": {
      "text/html": [
       "<style>\n",
       ".list-inline {list-style: none; margin:0; padding: 0}\n",
       ".list-inline>li {display: inline-block}\n",
       ".list-inline>li:not(:last-child)::after {content: \"\\00b7\"; padding: 0 .5ex}\n",
       "</style>\n",
       "<ol class=list-inline><li>-1</li><li>-1</li><li>-1</li><li>-1</li><li>-1</li><li>-1</li><li>1</li><li>-1</li><li>1</li><li>-1</li><li>1</li><li>-1</li><li>1</li><li>-1</li><li>1</li><li>2</li><li>2</li><li>1</li><li>1</li><li>-1</li><li>-1</li><li>1</li><li>-1</li><li>-1</li><li>2</li><li>-1</li><li>2</li><li>-1</li><li>1</li><li>1</li><li>1</li><li>1</li><li>-1</li><li>1</li><li>-1</li><li>-1</li><li>1</li><li>-1</li><li>-1</li><li>-1</li><li>-1</li><li>2</li><li>-1</li><li>-1</li><li>-1</li><li>1</li><li>-1</li><li>-1</li><li>2</li><li>-1</li></ol>\n"
      ],
      "text/latex": [
       "\\begin{enumerate*}\n",
       "\\item -1\n",
       "\\item -1\n",
       "\\item -1\n",
       "\\item -1\n",
       "\\item -1\n",
       "\\item -1\n",
       "\\item 1\n",
       "\\item -1\n",
       "\\item 1\n",
       "\\item -1\n",
       "\\item 1\n",
       "\\item -1\n",
       "\\item 1\n",
       "\\item -1\n",
       "\\item 1\n",
       "\\item 2\n",
       "\\item 2\n",
       "\\item 1\n",
       "\\item 1\n",
       "\\item -1\n",
       "\\item -1\n",
       "\\item 1\n",
       "\\item -1\n",
       "\\item -1\n",
       "\\item 2\n",
       "\\item -1\n",
       "\\item 2\n",
       "\\item -1\n",
       "\\item 1\n",
       "\\item 1\n",
       "\\item 1\n",
       "\\item 1\n",
       "\\item -1\n",
       "\\item 1\n",
       "\\item -1\n",
       "\\item -1\n",
       "\\item 1\n",
       "\\item -1\n",
       "\\item -1\n",
       "\\item -1\n",
       "\\item -1\n",
       "\\item 2\n",
       "\\item -1\n",
       "\\item -1\n",
       "\\item -1\n",
       "\\item 1\n",
       "\\item -1\n",
       "\\item -1\n",
       "\\item 2\n",
       "\\item -1\n",
       "\\end{enumerate*}\n"
      ],
      "text/markdown": [
       "1. -1\n",
       "2. -1\n",
       "3. -1\n",
       "4. -1\n",
       "5. -1\n",
       "6. -1\n",
       "7. 1\n",
       "8. -1\n",
       "9. 1\n",
       "10. -1\n",
       "11. 1\n",
       "12. -1\n",
       "13. 1\n",
       "14. -1\n",
       "15. 1\n",
       "16. 2\n",
       "17. 2\n",
       "18. 1\n",
       "19. 1\n",
       "20. -1\n",
       "21. -1\n",
       "22. 1\n",
       "23. -1\n",
       "24. -1\n",
       "25. 2\n",
       "26. -1\n",
       "27. 2\n",
       "28. -1\n",
       "29. 1\n",
       "30. 1\n",
       "31. 1\n",
       "32. 1\n",
       "33. -1\n",
       "34. 1\n",
       "35. -1\n",
       "36. -1\n",
       "37. 1\n",
       "38. -1\n",
       "39. -1\n",
       "40. -1\n",
       "41. -1\n",
       "42. 2\n",
       "43. -1\n",
       "44. -1\n",
       "45. -1\n",
       "46. 1\n",
       "47. -1\n",
       "48. -1\n",
       "49. 2\n",
       "50. -1\n",
       "\n",
       "\n"
      ],
      "text/plain": [
       " [1] -1 -1 -1 -1 -1 -1  1 -1  1 -1  1 -1  1 -1  1  2  2  1  1 -1 -1  1 -1 -1  2\n",
       "[26] -1  2 -1  1  1  1  1 -1  1 -1 -1  1 -1 -1 -1 -1  2 -1 -1 -1  1 -1 -1  2 -1"
      ]
     },
     "metadata": {},
     "output_type": "display_data"
    }
   ],
   "source": [
    "dbscan$fit_predict(X)"
   ]
  }
 ],
 "metadata": {
  "kernelspec": {
   "display_name": "R",
   "language": "R",
   "name": "ir"
  },
  "language_info": {
   "codemirror_mode": "r",
   "file_extension": ".r",
   "mimetype": "text/x-r-source",
   "name": "R",
   "pygments_lexer": "r",
   "version": "4.4.1"
  }
 },
 "nbformat": 4,
 "nbformat_minor": 2
}
